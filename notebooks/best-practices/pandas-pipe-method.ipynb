{
 "cells": [
  {
   "cell_type": "markdown",
   "id": "5ec9ee09-7312-45b2-9f94-8c0649391f1d",
   "metadata": {},
   "source": [
    "# Pandas Best Practices - df.pipe() method chaining\n",
    "\n",
    "[![Colab](https://colab.research.google.com/assets/colab-badge.svg)](https://colab.research.google.com/github/dylanhogg/jupyter-experiments/blob/master/notebooks/best-practices/pandas-pipe-method.ipynb)    \n",
    "\n",
    "\n",
    "# References\n",
    "https://pandas.pydata.org/docs/reference/api/pandas.DataFrame.pipe.html  \n",
    "https://calmcode.io/pandas-pipe/introduction.html  \n",
    "https://github.com/koaning/calm-notebooks  \n",
    "https://github.com/wesm/pydata-book  \n",
    "https://tomaugspurger.github.io/method-chaining.html  \n",
    "https://github.com/Delgan/loguru  \n"
   ]
  },
  {
   "cell_type": "markdown",
   "id": "dc52862e-8539-450d-803c-17a022a7aa3e",
   "metadata": {},
   "source": [
    "# Dependencies"
   ]
  },
  {
   "cell_type": "code",
   "execution_count": null,
   "id": "e331912f-1cea-4404-94e7-44e1c6ca1fd4",
   "metadata": {
    "tags": []
   },
   "outputs": [],
   "source": [
    "%pip install loguru -q  # Logging services; https://github.com/Delgan/loguru"
   ]
  },
  {
   "cell_type": "code",
   "execution_count": null,
   "id": "0b78e20e-fbce-4d73-a029-7f5e054ae389",
   "metadata": {},
   "outputs": [],
   "source": [
    "import numpy as np\n",
    "import pandas as pd\n",
    "from datetime import datetime\n",
    "from functools import wraps\n",
    "from IPython.display import display, HTML"
   ]
  },
  {
   "cell_type": "code",
   "execution_count": null,
   "id": "b5616ec9-9cbd-44c6-834f-8d4a758543eb",
   "metadata": {},
   "outputs": [],
   "source": [
    "from loguru import logger"
   ]
  },
  {
   "cell_type": "code",
   "execution_count": null,
   "id": "5fe2efa2-6fe5-4f05-b88d-9f5b1a8a3010",
   "metadata": {},
   "outputs": [],
   "source": [
    "pd.options.display.max_columns = None\n",
    "pd.options.display.max_rows = 100"
   ]
  },
  {
   "cell_type": "markdown",
   "id": "66e589b0-1e5b-4515-9f70-2fec5147345d",
   "metadata": {},
   "source": [
    "## Load input data (popular python libraries)"
   ]
  },
  {
   "cell_type": "code",
   "execution_count": null,
   "id": "4575bdec-78e2-4693-9f41-98f2ebd84448",
   "metadata": {},
   "outputs": [],
   "source": [
    "df_raw = pd.read_json(\"https://www.awesomepython.org/github_data.json\", orient=\"table\")"
   ]
  },
  {
   "cell_type": "code",
   "execution_count": null,
   "id": "4b3d8efb-a793-4a65-8133-487fa1dea814",
   "metadata": {},
   "outputs": [],
   "source": [
    "df_raw[0:2]"
   ]
  },
  {
   "cell_type": "markdown",
   "id": "93296b98-3d6c-4163-90c7-679b0bdccd6b",
   "metadata": {},
   "source": [
    "## Decorator helpers"
   ]
  },
  {
   "cell_type": "code",
   "execution_count": null,
   "id": "c27b9cdb-4b70-4597-8d14-14f9b387d943",
   "metadata": {},
   "outputs": [],
   "source": [
    "def log_pipeline_step(func):\n",
    "    @wraps(func)\n",
    "    def wrapper(*args, **kwargs) -> pd.DataFrame:\n",
    "        input_shape = args[0].shape\n",
    "        logger.info(f\"{func.__name__}\")\n",
    "        tic = datetime.now()\n",
    "        df_result = func(*args, **kwargs)\n",
    "        output_shape = df_result.shape\n",
    "        logger.info(f\" ╰╴{func.__name__} took {datetime.now() - tic}s in: {input_shape} out: {output_shape} diff: ({output_shape[0] - input_shape[0]}, {output_shape[1] - input_shape[1]})\")\n",
    "        return df_result\n",
    "    return wrapper\n",
    "\n",
    "def log_columns(func):\n",
    "    @wraps(func)\n",
    "    def wrapper(*args, **kwargs):\n",
    "        df_result = func(*args, **kwargs)\n",
    "        logger.info(f\"{func.__name__} cols ({len(df_result.columns)}): [{', '.join(list(df_result.columns))}]\")\n",
    "        return df_result\n",
    "    return wrapper"
   ]
  },
  {
   "cell_type": "markdown",
   "id": "d239beaf-b285-4075-9b2b-4da50d95f697",
   "metadata": {},
   "source": [
    "## Generic pipe functions"
   ]
  },
  {
   "cell_type": "code",
   "execution_count": null,
   "id": "043f4a1a-a2d0-4631-ba54-36cd755c50f8",
   "metadata": {},
   "outputs": [],
   "source": [
    "@log_pipeline_step\n",
    "@log_columns\n",
    "def start_pipeline(dataf):\n",
    "    return dataf.copy()\n",
    "\n",
    "@log_columns\n",
    "def end_pipeline(dataf):\n",
    "    return dataf\n",
    "\n",
    "@log_pipeline_step\n",
    "def filter_rows(dataf: pd.DataFrame, column, min_value) -> pd.DataFrame:\n",
    "    return (dataf[dataf[column] >= min_value])\n",
    "\n",
    "@log_pipeline_step\n",
    "def sort_values(dataf: pd.DataFrame, col_names, ascending=False) -> pd.DataFrame:\n",
    "    return dataf.sort_values(by=col_names, ascending=ascending)\n",
    "\n",
    "@log_pipeline_step\n",
    "def move_col(dataf, col_name, index=0):\n",
    "    cols = dataf.columns.tolist()\n",
    "    cols.insert(index, cols.pop(cols.index(col_name)))\n",
    "    return dataf.loc[:, cols]\n",
    "\n",
    "@log_pipeline_step\n",
    "def calc_sum(dataf: pd.DataFrame, index_name= \"total\") -> pd.DataFrame:\n",
    "    def _numeric_sum(col):\n",
    "        return col.sum() if np.issubdtype(col.dtype, np.number) else None\n",
    "    dataf.loc[index_name] = dataf.apply(_numeric_sum, axis=0) # over columns\n",
    "    return dataf"
   ]
  },
  {
   "cell_type": "markdown",
   "id": "905bfa68-2d1b-4409-9699-1acdd56e6dd3",
   "metadata": {},
   "source": [
    "## Custom pipe functions"
   ]
  },
  {
   "cell_type": "code",
   "execution_count": null,
   "id": "daaeab9a-1d6a-4e93-a80a-fe13c1ee5cae",
   "metadata": {},
   "outputs": [],
   "source": [
    "@log_pipeline_step\n",
    "def set_dtypes(dataf: pd.DataFrame) -> pd.DataFrame:\n",
    "    return (dataf\n",
    "            .assign(last_commit_date=lambda d: pd.to_datetime(d['last_commit_date']).dt.tz_localize(None))\n",
    "            .assign(updated_at=lambda d: pd.to_datetime(d['updated_at']).dt.tz_localize(None))\n",
    "            .assign(created_at=lambda d: pd.to_datetime(d['created_at']).dt.tz_localize(None))\n",
    "           )\n",
    "\n",
    "@log_pipeline_step\n",
    "def remove_zero_age_weeks(dataf: pd.DataFrame) -> pd.DataFrame:\n",
    "    dataf.loc[dataf[\"age_weeks\"] == 0, \"age_weeks\"] = 1\n",
    "    return dataf\n",
    "\n",
    "@log_pipeline_step\n",
    "def rename_columns(dataf: pd.DataFrame) -> pd.DataFrame:\n",
    "    dataf.columns = dataf.columns.str.lstrip('_')\n",
    "    dataf.columns = dataf.columns.str.replace(' ', '')\n",
    "    return dataf\n",
    "\n",
    "@log_pipeline_step\n",
    "def calc_popularity_measure(dataf: pd.DataFrame, col_name = \"popularity_measure\") -> pd.DataFrame:\n",
    "    def _calc_popularity_measure(row):\n",
    "        return (row[\"stars\"] + row[\"forks\"] + row[\"watches\"]) / row[\"age_weeks\"]\n",
    "    kwargs = {col_name: _calc_popularity_measure}\n",
    "    return dataf.assign(**kwargs)\n",
    "\n",
    "@log_pipeline_step\n",
    "def expand_per_week_measures(dataf: pd.DataFrame) -> pd.DataFrame:\n",
    "    def _calc_per_week_measures(row):\n",
    "        return {\n",
    "            \"watches_per_week\": row[\"watches\"] / row[\"age_weeks\"],\n",
    "            \"forks_per_week\": row[\"forks\"] / row[\"age_weeks\"]\n",
    "        }\n",
    "    res = dataf.apply(_calc_per_week_measures, axis=1, result_type='expand')\n",
    "    dataf[res.columns] = res\n",
    "    return dataf\n",
    "\n",
    "@log_pipeline_step\n",
    "def expand_percentages(dataf: pd.DataFrame) -> pd.DataFrame:\n",
    "    def _calc_percentages(row):\n",
    "        return {\n",
    "            \"stars_percent\": row[\"stars\"] * 100 / dataf[\"stars\"].sum(), \n",
    "            \"watches_percent\": row[\"watches\"] * 100 / dataf[\"watches\"].sum(), \n",
    "            \"forks_percent\": row[\"forks\"] * 100 / dataf[\"forks\"].sum()\n",
    "        }\n",
    "    res = dataf.apply(_calc_percentages, axis=1, result_type='expand')\n",
    "    dataf[res.columns] = res\n",
    "    return dataf"
   ]
  },
  {
   "cell_type": "markdown",
   "id": "48861740-5dce-4b94-9a2a-46a45089702e",
   "metadata": {},
   "source": [
    "## Pipeline example"
   ]
  },
  {
   "cell_type": "code",
   "execution_count": null,
   "id": "daf88739-6252-4186-a13c-f7875d7df0fd",
   "metadata": {},
   "outputs": [],
   "source": [
    "df = (df_raw\n",
    "      .pipe(start_pipeline)\n",
    "      .pipe(rename_columns)\n",
    "      .pipe(set_dtypes)\n",
    "      .pipe(remove_zero_age_weeks)\n",
    "      .pipe(filter_rows, column=\"stars\", min_value=100)\n",
    "      .pipe(expand_per_week_measures)\n",
    "      .pipe(expand_percentages)\n",
    "      .pipe(calc_popularity_measure, col_name=\"popularity_measure\")\n",
    "      .pipe(sort_values, col_names=[\"popularity_measure\"])\n",
    "      .pipe(calc_sum)\n",
    "      .pipe(move_col, \"popularity_measure\", 0)\n",
    "      .pipe(end_pipeline)\n",
    "     )"
   ]
  },
  {
   "cell_type": "code",
   "execution_count": null,
   "id": "51da1376-da0a-4986-933f-de9eae6c2d91",
   "metadata": {},
   "outputs": [],
   "source": [
    "display(df)"
   ]
  },
  {
   "cell_type": "code",
   "execution_count": null,
   "id": "b510f820-f8d5-45ef-9bd6-b1d9b84e5a40",
   "metadata": {},
   "outputs": [],
   "source": []
  }
 ],
 "metadata": {
  "kernelspec": {
   "display_name": "Python 3 (ipykernel)",
   "language": "python",
   "name": "python3"
  },
  "language_info": {
   "codemirror_mode": {
    "name": "ipython",
    "version": 3
   },
   "file_extension": ".py",
   "mimetype": "text/x-python",
   "name": "python",
   "nbconvert_exporter": "python",
   "pygments_lexer": "ipython3",
   "version": "3.9.14"
  }
 },
 "nbformat": 4,
 "nbformat_minor": 5
}

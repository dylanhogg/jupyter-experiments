{
 "cells": [
  {
   "cell_type": "markdown",
   "metadata": {},
   "source": [
    "# Blackstone (colab ready)\n",
    "\n",
    "## Custom venv\n",
    "\n",
    "blackstone 0.1.15 is fixed to spacy==2.1.8 so we have a custom venv for it.\n",
    "\n",
    "`make venv_blackstone`  \n",
    "`make jupyter_blackstone`  \n",
    "\n",
    "https://pypi.org/project/blackstone/  \n",
    "https://research.iclr.co.uk/blackstone  \n",
    "https://github.com/ICLRandD/Blackstone  "
   ]
  },
  {
   "cell_type": "code",
   "execution_count": null,
   "metadata": {},
   "outputs": [],
   "source": [
    "!pip install blackstone"
   ]
  },
  {
   "cell_type": "code",
   "execution_count": null,
   "metadata": {},
   "outputs": [],
   "source": [
    "# NOTE: You may need to restart the kernel to be able to use these downloaded models if installed here\n",
    "!pip install https://blackstone-model.s3-eu-west-1.amazonaws.com/en_blackstone_proto-0.0.1.tar.gz  # 243.3 MB\n",
    "!python -m spacy download en_core_web_md  # v2.3.1 50.8 MB"
   ]
  },
  {
   "cell_type": "code",
   "execution_count": null,
   "metadata": {},
   "outputs": [],
   "source": [
    "import datetime\n",
    "import pandas as pd\n",
    "import spacy\n",
    "from spacy import displacy\n",
    "from IPython.core.display import HTML"
   ]
  },
  {
   "cell_type": "code",
   "execution_count": null,
   "metadata": {},
   "outputs": [],
   "source": [
    "nlps = {}\n",
    "nlps[\"en_blackstone_proto\"] = spacy.load(\"en_blackstone_proto\")\n",
    "nlps[\"en_core_web_md\"] = spacy.load(\"en_core_web_md\")"
   ]
  },
  {
   "cell_type": "code",
   "execution_count": null,
   "metadata": {},
   "outputs": [],
   "source": [
    "start = datetime.datetime.now()"
   ]
  },
  {
   "cell_type": "code",
   "execution_count": null,
   "metadata": {},
   "outputs": [],
   "source": [
    "text = \"\"\"As we shall explain in more detail in examining the submission of the Secretary of State (see paras 77 and following), it is the Secretary of State’s case that nothing has been done by Parliament in the European Communities Act 1972 or any other statute to remove the prerogative power of the Crown, in the conduct of the international relations of the UK, to take steps to remove the UK from the EU by giving notice under article 50EU for the UK to withdraw from the EU Treaty and other relevant EU Treaties. The Secretary of State relies in particular on Attorney General v De Keyser’s Royal Hotel Ltd [1920] AC 508 and R v Secretary of State for Foreign and Commonwealth Affairs, Ex p Rees-Mogg [1994] QB 552; he contends that the Crown’s prerogative power to cause the UK to withdraw from the EU by giving notice under article 50EU could only have been removed by primary legislation using express words to that effect, alternatively by legislation which has that effect by necessary implication. The Secretary of State contends that neither the ECA 1972 nor any of the other Acts of Parliament referred to have abrogated this aspect of the Crown’s prerogative, either by express words or by necessary implication.\n",
    "\"\"\""
   ]
  },
  {
   "cell_type": "code",
   "execution_count": null,
   "metadata": {},
   "outputs": [],
   "source": [
    "def apply_nlp(text, nlps, nlp_type, options_ent={}, render=True) -> pd.DataFrame:\n",
    "    nlp = nlps[nlp_type]\n",
    "    doc = nlp(text)\n",
    "    \n",
    "    if render:\n",
    "        doc.user_data[\"title\"] = f\"{nlp_type}\"\n",
    "        #options_dep = {\"compact\": False, \"bg\": \"#ffffff\", \"color\": \"grey\", \"font\": \"Source Sans Pro\"}\n",
    "        #displacy.render(doc, style=\"dep\", options=options_dep)\n",
    "        #displacy.render(list(doc.sents), style=\"dep\", options=options_dep)\n",
    "        displacy.render(doc, style=\"ent\", jupyter=True, options=options_ent)\n",
    "        \n",
    "    ents = []\n",
    "    for e in doc.ents:\n",
    "        # print(ent.text, ent.label_)\n",
    "        ents.append((e.label_, e.text, e.root, e.conjuncts, e.start_char, e.end_char, e.vector_norm))\n",
    "    df = pd.DataFrame.from_records(ents)\n",
    "    columns = [\"label\", \"text\", \"root\", \"conjuncts\", \"start_char\", \"end_char\", \"vector_norm\"]\n",
    "    df.columns = columns\n",
    "    df.sort_values(by=\"label\", inplace=True)\n",
    "    df = df.groupby(columns).size().reset_index(name='counts')\n",
    "    return df"
   ]
  },
  {
   "cell_type": "markdown",
   "metadata": {},
   "source": [
    "## Apply en_core_web_md to text"
   ]
  },
  {
   "cell_type": "code",
   "execution_count": null,
   "metadata": {},
   "outputs": [],
   "source": [
    "df = apply_nlp(text, nlps, \"en_core_web_md\")\n",
    "HTML(df.to_html())"
   ]
  },
  {
   "cell_type": "code",
   "execution_count": null,
   "metadata": {},
   "outputs": [],
   "source": []
  },
  {
   "cell_type": "markdown",
   "metadata": {},
   "source": [
    "## Apply en_blackstone_proto to text"
   ]
  },
  {
   "cell_type": "code",
   "execution_count": null,
   "metadata": {},
   "outputs": [],
   "source": [
    "options = {\"colors\": {\"CASENAME\": \"#EBDEF0\", \"CITATION\": \"#FADBD8\", \"INSTRUMENT\": \"#D5F5E3\", \"PROVISION\": \"#D6EAF8\", \"COURT\": \"#F7DC6F\", \"JUDGE\": \"#D6DBDF\"}}\n",
    "df = apply_nlp(text, nlps, \"en_blackstone_proto\", options)\n",
    "HTML(df.to_html())"
   ]
  },
  {
   "cell_type": "code",
   "execution_count": null,
   "metadata": {},
   "outputs": [],
   "source": []
  },
  {
   "cell_type": "markdown",
   "metadata": {},
   "source": [
    "## Inspect ent object"
   ]
  },
  {
   "cell_type": "code",
   "execution_count": null,
   "metadata": {},
   "outputs": [],
   "source": [
    "nlp = nlps[\"en_blackstone_proto\"]\n",
    "#nlp = nlps[\"en_core_web_md\"]\n",
    "doc = nlp(text)"
   ]
  },
  {
   "cell_type": "code",
   "execution_count": null,
   "metadata": {},
   "outputs": [],
   "source": [
    "ent = doc.ents[3]\n",
    "print(\"\\n\\nAll attrs:\")\n",
    "for name in [a for a in dir(ent) if not a.startswith('_')]:\n",
    "    val = getattr(ent, name)\n",
    "    print(f\"{name} = {val}\\n\")"
   ]
  },
  {
   "cell_type": "code",
   "execution_count": null,
   "metadata": {},
   "outputs": [],
   "source": [
    "for ent in doc.ents:\n",
    "    print(f\"Label *: {ent.label_}\")\n",
    "    print(f\"Text  *: {ent.text}\")\n",
    "    print(f\"Root   : {ent.root}\")\n",
    "    print(f\"Conj   : {ent.conjuncts}\")\n",
    "    print(f\"Start  : {ent.start_char}\")\n",
    "    print(f\"End    : {ent.end_char}\")\n",
    "    print(f\"VecNorm: {ent.vector_norm}\")\n",
    "    print(\"-----------------------------\")"
   ]
  },
  {
   "cell_type": "code",
   "execution_count": null,
   "metadata": {},
   "outputs": [],
   "source": []
  },
  {
   "cell_type": "code",
   "execution_count": null,
   "metadata": {},
   "outputs": [],
   "source": []
  },
  {
   "cell_type": "code",
   "execution_count": null,
   "metadata": {},
   "outputs": [],
   "source": []
  },
  {
   "cell_type": "code",
   "execution_count": null,
   "metadata": {},
   "outputs": [],
   "source": []
  },
  {
   "cell_type": "code",
   "execution_count": null,
   "metadata": {},
   "outputs": [],
   "source": []
  }
 ],
 "metadata": {
  "kernelspec": {
   "display_name": "Python 3",
   "language": "python",
   "name": "python3"
  },
  "language_info": {
   "codemirror_mode": {
    "name": "ipython",
    "version": 3
   },
   "file_extension": ".py",
   "mimetype": "text/x-python",
   "name": "python",
   "nbconvert_exporter": "python",
   "pygments_lexer": "ipython3",
   "version": "3.7.7"
  }
 },
 "nbformat": 4,
 "nbformat_minor": 4
}

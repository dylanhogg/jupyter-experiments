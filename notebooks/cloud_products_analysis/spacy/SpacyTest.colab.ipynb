{
 "cells": [
  {
   "cell_type": "markdown",
   "metadata": {},
   "source": [
    "# Spacy over AWS products (colab ready)\n",
    "\n",
    "Inspiration:  \n",
    "https://github.com/explosion/spacy-notebooks  \n",
    "https://spacy.io/models/en  \n",
    "https://spacy.io/usage/visualizers#jupyter  \n",
    "https://spacy.io/usage/models  \n",
    "https://spacy.io/usage/facts-figures#spacy-models  \n",
    "https://spacy.io/usage/spacy-101  "
   ]
  },
  {
   "cell_type": "code",
   "execution_count": null,
   "metadata": {},
   "outputs": [],
   "source": [
    "!which python"
   ]
  },
  {
   "cell_type": "code",
   "execution_count": null,
   "metadata": {},
   "outputs": [],
   "source": [
    "!pip install spacy pandas cloud-products>=1.1.0"
   ]
  },
  {
   "cell_type": "code",
   "execution_count": null,
   "metadata": {},
   "outputs": [],
   "source": [
    "# NOTE: You may need to restart the kernel to be able to use these downloaded models if installed here\n",
    "# !python -m spacy download en_core_web_lg  # v2.3.1 782.7 MB\n",
    "!python -m spacy download en_core_web_md  # v2.3.1 50.8 MB"
   ]
  },
  {
   "cell_type": "code",
   "execution_count": null,
   "metadata": {},
   "outputs": [],
   "source": [
    "!pip list | grep spacy"
   ]
  },
  {
   "cell_type": "code",
   "execution_count": null,
   "metadata": {},
   "outputs": [],
   "source": [
    "import pandas as pd\n",
    "import spacy\n",
    "from spacy import displacy\n",
    "from cloud_products.aws import AwsCrawler\n",
    "from IPython.core.display import HTML"
   ]
  },
  {
   "cell_type": "code",
   "execution_count": null,
   "metadata": {},
   "outputs": [],
   "source": [
    "def get_cloud_products(use_cache=True):\n",
    "    crawler = AwsCrawler()\n",
    "    products = crawler.get_products(use_cache=use_cache)\n",
    "    product_text = {}\n",
    "    for product in products:\n",
    "        product_lines = crawler.get_product_text(product, use_cache=use_cache)\n",
    "        product_text[product.code] = \" \".join(product_lines)\n",
    "    df = pd.DataFrame.from_records([vars(p) for p in products])\n",
    "    df['product_text'] = df[\"code\"].apply(lambda code: product_text[code])\n",
    "    return df"
   ]
  },
  {
   "cell_type": "code",
   "execution_count": null,
   "metadata": {},
   "outputs": [],
   "source": [
    "df_cloud_products = get_cloud_products()\n",
    "df_cloud_products.head(2)"
   ]
  },
  {
   "cell_type": "code",
   "execution_count": null,
   "metadata": {},
   "outputs": [],
   "source": [
    "codes = df_cloud_products[\"code\"].unique()\n",
    "print(f\"len(codes) = {len(codes)}\")\n",
    "codes[:10]"
   ]
  },
  {
   "cell_type": "code",
   "execution_count": null,
   "metadata": {},
   "outputs": [],
   "source": [
    "code = \"sagemaker\"\n",
    "text = df_cloud_products.set_index(\"code\").loc[code][\"product_text\"]\n",
    "text[:120]"
   ]
  },
  {
   "cell_type": "code",
   "execution_count": null,
   "metadata": {},
   "outputs": [],
   "source": [
    "nlps = {}\n",
    "nlps[\"en_core_web_md\"] = spacy.load(\"en_core_web_md\")"
   ]
  },
  {
   "cell_type": "code",
   "execution_count": null,
   "metadata": {},
   "outputs": [],
   "source": [
    "def apply_nlp(text, nlps, nlp_type, options_ent={}, render=True) -> pd.DataFrame:\n",
    "    nlp = nlps[nlp_type]\n",
    "    doc = nlp(text)\n",
    "    \n",
    "    if render:\n",
    "        doc.user_data[\"title\"] = f\"{nlp_type}\"\n",
    "        #options_dep = {\"compact\": False, \"bg\": \"#ffffff\", \"color\": \"grey\", \"font\": \"Source Sans Pro\"}\n",
    "        #displacy.render(doc, style=\"dep\", options=options_dep)\n",
    "        #displacy.render(list(doc.sents), style=\"dep\", options=options_dep)\n",
    "        displacy.render(doc, style=\"ent\", jupyter=True, options=options_ent)\n",
    "        \n",
    "    ents = []\n",
    "    for e in doc.ents:\n",
    "        # print(ent.text, ent.label_)\n",
    "        ents.append((e.label_, e.text, e.root, e.conjuncts, e.start_char, e.end_char, e.vector_norm))\n",
    "    df = pd.DataFrame.from_records(ents)\n",
    "    columns = [\"label\", \"text\", \"root\", \"conjuncts\", \"start_char\", \"end_char\", \"vector_norm\"]\n",
    "    df.columns = columns\n",
    "    df.sort_values(by=\"label\", inplace=True)\n",
    "    df = df.groupby(columns).size().reset_index(name='counts')\n",
    "    return df"
   ]
  },
  {
   "cell_type": "code",
   "execution_count": null,
   "metadata": {},
   "outputs": [],
   "source": [
    "df = apply_nlp(text, nlps, \"en_core_web_md\")"
   ]
  },
  {
   "cell_type": "code",
   "execution_count": null,
   "metadata": {},
   "outputs": [],
   "source": [
    "HTML(df.to_html())"
   ]
  },
  {
   "cell_type": "code",
   "execution_count": null,
   "metadata": {},
   "outputs": [],
   "source": []
  }
 ],
 "metadata": {
  "kernelspec": {
   "display_name": "Python 3",
   "language": "python",
   "name": "python3"
  },
  "language_info": {
   "codemirror_mode": {
    "name": "ipython",
    "version": 3
   },
   "file_extension": ".py",
   "mimetype": "text/x-python",
   "name": "python",
   "nbconvert_exporter": "python",
   "pygments_lexer": "ipython3",
   "version": "3.7.7"
  }
 },
 "nbformat": 4,
 "nbformat_minor": 4
}
